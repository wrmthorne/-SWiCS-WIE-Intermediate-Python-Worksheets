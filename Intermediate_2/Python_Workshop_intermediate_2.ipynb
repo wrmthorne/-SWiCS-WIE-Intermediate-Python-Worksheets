{
 "cells": [
  {
   "cell_type": "markdown",
   "id": "da7bf0ed",
   "metadata": {},
   "source": [
    "# SECOND INTERMEDIATE PYTHON SESSION\n",
    "#### Written by Ioanna (Ioni) Kalospyrou for Women in Engineering x Women in Computer Science Python Workshop Series (2023)"
   ]
  },
  {
   "cell_type": "markdown",
   "id": "072c6aff",
   "metadata": {},
   "source": [
    "## Introduction to Pandas\n",
    "Pandas is a fast, powerful and easy to use open source data analysis and manipulation tool. it has functions for analysing, cleaning, exploring and manipulating data."
   ]
  },
  {
   "cell_type": "markdown",
   "id": "da062765",
   "metadata": {},
   "source": [
    "## Installing and importing Pandas\n",
    "(More information on package installation has been provided in Intermediate Session 1)"
   ]
  },
  {
   "cell_type": "code",
   "execution_count": null,
   "id": "cb4eb18b",
   "metadata": {},
   "outputs": [],
   "source": [
    "!pip install pandas\n",
    "import pandas as pd\n"
   ]
  },
  {
   "cell_type": "markdown",
   "id": "c4991803",
   "metadata": {},
   "source": [
    "## Example 1: Wine Dataset"
   ]
  },
  {
   "cell_type": "markdown",
   "id": "0d33ecf7",
   "metadata": {},
   "source": [
    "### 1. Loading Data"
   ]
  },
  {
   "cell_type": "markdown",
   "id": "a10f2c13",
   "metadata": {},
   "source": [
    "Scikit learn is a free software machine learning library. It contains some toy data sets and for this tutorial we will choose to use the \"Wine Recognition Dataset\", which can be accessed by importing \"load_wine\" from sklearn.datasets as shown below:"
   ]
  },
  {
   "cell_type": "code",
   "execution_count": null,
   "id": "6a209fb3",
   "metadata": {},
   "outputs": [],
   "source": [
    "!pip install scikit_learn\n",
    "from sklearn.datasets import load_wine"
   ]
  },
  {
   "cell_type": "markdown",
   "id": "ea098fe3",
   "metadata": {},
   "source": [
    "Then, you need to allocate the loaded wine data into a variable named \"wine\" and use this variable to define a Pandas DataFrame. A DataFrame is a data structure that organizes data into a 2-dimensional table of rows and columns, similar to a speadsheet."
   ]
  },
  {
   "cell_type": "code",
   "execution_count": null,
   "id": "721856a4",
   "metadata": {},
   "outputs": [],
   "source": [
    "wine = load_wine()\n",
    "# A dataframe is usually symbolised with df, although, you can give it any name you wish.\n",
    "df = pd.DataFrame(wine.data, columns=wine.feature_names)"
   ]
  },
  {
   "cell_type": "markdown",
   "id": "3c659020",
   "metadata": {},
   "source": [
    "EXTRA INFORMATION \n",
    "\n",
    "Data loading from computer file. \n",
    "You can open a spreadsheet from your computer and turn it into a DataFrame by following the following procedure:\n",
    "1. Ensure that the spreadsheet is in the same folder to the one you have saved your code. \n",
    "2. Save the original spreadsheet in CSV (Comma Separated Values) format.\n",
    "3. Create the Dataframe by writing the code: df = pd.read_csv('name_of_file.csv')"
   ]
  },
  {
   "cell_type": "markdown",
   "id": "21f3f645",
   "metadata": {},
   "source": [
    "### 2. Data Inspection"
   ]
  },
  {
   "cell_type": "markdown",
   "id": "d0f493e5",
   "metadata": {},
   "source": [
    "To inspect the first lines of data saved in the DataFrame the code used is: df.head()\n",
    "To inspect the last lines of data saved in the DataFrame the code used is: df.tail()\n",
    "\n",
    "If left like this, the first or last 5 lines of data are generated respectively.\n",
    "You can define the number of lines you want inspected in the parenthesis."
   ]
  },
  {
   "cell_type": "markdown",
   "id": "28c2807a",
   "metadata": {},
   "source": [
    "#### *Questions:*\n",
    "\n",
    "a. Inspect the first 5 lines of data.\n",
    "\n",
    "b. Inspect the last 10 lines of data.\n",
    "\n",
    "c. Inspect the first 3 lines of data.\n",
    "\n",
    "d. Inspect the last 2 lines of data."
   ]
  },
  {
   "cell_type": "code",
   "execution_count": null,
   "id": "5cb9342b",
   "metadata": {},
   "outputs": [],
   "source": [
    "# Answer Question a here:\n",
    "\n",
    "\n",
    "# Answer Question b here:\n",
    "\n",
    "\n",
    "# Answer Question c here:\n",
    "\n",
    "\n",
    "# Answer Question d here:\n",
    "\n"
   ]
  },
  {
   "cell_type": "markdown",
   "id": "8499bdca",
   "metadata": {},
   "source": [
    "### 3. Data Cleaning"
   ]
  },
  {
   "cell_type": "markdown",
   "id": "0eeb10fd",
   "metadata": {},
   "source": [
    "You can delete a column or row from a DataFrame using the code df.drop(). In the parenthesis you should have the name of the column or row you are targeting as well as the axis. For columns, axis=1, for rows, axis=0."
   ]
  },
  {
   "cell_type": "markdown",
   "id": "a8803492",
   "metadata": {},
   "source": [
    "#### *Question:*\n",
    "\n",
    "Generate a new dataset, df1 which has all the information of df just not the \"magnesium\" and \"malic_acid\" columns.\n",
    "Proceed to inspect the first 5 lines of df1."
   ]
  },
  {
   "cell_type": "code",
   "execution_count": null,
   "id": "8ba8e879",
   "metadata": {},
   "outputs": [],
   "source": [
    "#Answer here: \n"
   ]
  },
  {
   "cell_type": "markdown",
   "id": "53b21780",
   "metadata": {},
   "source": [
    "### 4. Statistics"
   ]
  },
  {
   "cell_type": "markdown",
   "id": "fcd3c2bc",
   "metadata": {},
   "source": [
    "You can obtain the statistical summaries for all columns of the DataFrame with the code:  df.describe()"
   ]
  },
  {
   "cell_type": "markdown",
   "id": "3a16b657",
   "metadata": {},
   "source": [
    "#### *Questions:*\n",
    "\n",
    "a. Print the statistical summary of the wine dataframe.\n",
    "\n",
    "b. Print the statistical summary only of the \"alcohol\" column.\n",
    "\n",
    "c. Print the statistical summary only of the \"ash\" and \"proline\" columns.\n"
   ]
  },
  {
   "cell_type": "code",
   "execution_count": null,
   "id": "269fcefa",
   "metadata": {},
   "outputs": [],
   "source": [
    "#Answer Question a here:\n",
    "\n",
    "#once you answer this question, # it before you move on to the next to \n",
    "#have a clearer view of what you print.\n",
    "\n",
    "#Answer Question b here:\n",
    "\n",
    "\n",
    "#Answer Question c here:\n"
   ]
  },
  {
   "cell_type": "markdown",
   "id": "36115304",
   "metadata": {},
   "source": [
    "You can also obtain specific statistic information on different columns with .count(), \n",
    ".mean(), .std(), .min(), .max()"
   ]
  },
  {
   "cell_type": "markdown",
   "id": "2acdbee5",
   "metadata": {},
   "source": [
    "#### *Questions:*\n",
    "\n",
    "a. Print the mean of all columns in the wine dataframe.\n",
    "\n",
    "b. Which has a higher standard deviation? Malic acid or proline?\n",
    "\n",
    "c. Print the minimum only of the \"ash\",\"proanthocyanins\" and \"alcohol\" columns.\n",
    "\n"
   ]
  },
  {
   "cell_type": "code",
   "execution_count": null,
   "id": "b5031b43",
   "metadata": {},
   "outputs": [],
   "source": [
    "#Answer Question a here:\n",
    "\n",
    "#once you answer this question, # it before you move on to the next, to have a clearer\n",
    "#view of what you print.\n",
    "\n",
    "#Answer Question b here:\n",
    "\n",
    "\n",
    "\n",
    "#Answer Question c here:\n"
   ]
  },
  {
   "cell_type": "markdown",
   "id": "349fb194",
   "metadata": {},
   "source": [
    "### 5. Plotting (with Plotly Express)"
   ]
  },
  {
   "cell_type": "markdown",
   "id": "ada4c46f",
   "metadata": {},
   "source": [
    "The plotly Python library is an interactive, open-source plotting library. The plots generated using this library are easy to make and much more elegant that the ones generated with Matplotlib. \n",
    "Extra info: The top library for plots and visualisations is Seaborn. \n",
    "\n",
    "It is installed with the following code:"
   ]
  },
  {
   "cell_type": "code",
   "execution_count": null,
   "id": "5ab46c31",
   "metadata": {},
   "outputs": [],
   "source": [
    "!pip install plotly==5.13.1\n",
    "import plotly.express as px"
   ]
  },
  {
   "cell_type": "markdown",
   "id": "38a9a547",
   "metadata": {},
   "source": [
    "#### Two dimensional Scatter Plot using Plotly Express\n",
    "\n"
   ]
  },
  {
   "cell_type": "markdown",
   "id": "26467d6e",
   "metadata": {},
   "source": [
    "The code used to generate a figure, namely, a plot with plotly express is the following:\n",
    "\n",
    "fig = px.scatter(df, x, y)\n",
    "\n",
    "fig.show()\n",
    "\n",
    "where df is the dataframe you wish to define, x needs to be defined as the dataframe column you will assign the x axis to and y is the dataframe column you will assign the y axis to.\n",
    "Never forget the .show() code at the end for your figure to be generated. If you don't include it, you will not be able to see the plot (it will be generated though regardless).\n",
    "\n",
    "You can generate multiple types of plots by changing the .scatter accordingly.\n",
    "\n",
    "For a line plot: .line()\n",
    "\n",
    "For a histogram: .histogram()\n",
    "\n",
    "For a bar chart: .bar()\n",
    "\n",
    "For a pie chart: .pie()\n",
    "\n",
    "of course, the arguments within the brackets change since different charts have different requirements. For more info: https://plotly.com/python/\n",
    "\n",
    "As engineers though, more often than not, we have to deal with ranges of experimental data points, where trends and correlations are important to be understood. Hence, we will be focusing on scatter plots."
   ]
  },
  {
   "cell_type": "markdown",
   "id": "610f4724",
   "metadata": {},
   "source": [
    "#### *Question:*\n",
    "\n",
    "Generate a scatter plot of alcohol against malic acid.\n"
   ]
  },
  {
   "cell_type": "code",
   "execution_count": null,
   "id": "b424847c",
   "metadata": {},
   "outputs": [],
   "source": [
    "# Answer here\n"
   ]
  },
  {
   "cell_type": "markdown",
   "id": "7570f2d6",
   "metadata": {},
   "source": [
    "#### 2D multivariate scatter plotting\n",
    "\n",
    "Scatter plots with variable-sized circular markers are often known as bubble charts. \n",
    "By adding the arguments, color and size in the scatter brackets, different variables can affect those. Consequenctly, multivariate relationships can be represented. "
   ]
  },
  {
   "cell_type": "markdown",
   "id": "44cdee24",
   "metadata": {},
   "source": [
    "##### *Question:*\n",
    "\n",
    "Create a scatter plot of alcohol against malic acid, where the datapoint size will be representative of the proline and the color of the magnesium."
   ]
  },
  {
   "cell_type": "code",
   "execution_count": null,
   "id": "68d34ab9",
   "metadata": {},
   "outputs": [],
   "source": [
    "# Answer here\n"
   ]
  },
  {
   "cell_type": "markdown",
   "id": "c7e62e03",
   "metadata": {},
   "source": [
    "## Example 2: Open Power System Data - Time Series Data"
   ]
  },
  {
   "cell_type": "markdown",
   "id": "6d3b8964",
   "metadata": {},
   "source": [
    "### 1. Loading Data"
   ]
  },
  {
   "cell_type": "markdown",
   "id": "8cfed6fd",
   "metadata": {},
   "source": [
    "Open Power System Data is a publicly available dataset containing electricity consumption, wind power production, and solar power production data for 2006-2017. The data is loaded below:"
   ]
  },
  {
   "cell_type": "code",
   "execution_count": null,
   "id": "c1372939",
   "metadata": {},
   "outputs": [],
   "source": [
    "url='https://raw.githubusercontent.com/jenfly/opsd/master/opsd_germany_daily.csv'\n",
    "df = pd.read_csv(url,sep=\",\")"
   ]
  },
  {
   "cell_type": "markdown",
   "id": "d25ab7b6",
   "metadata": {},
   "source": [
    "#### *Question:*\n",
    "\n",
    "View the whole dataset df."
   ]
  },
  {
   "cell_type": "code",
   "execution_count": null,
   "id": "9628574c",
   "metadata": {},
   "outputs": [],
   "source": [
    "#Answer here:\n"
   ]
  },
  {
   "cell_type": "markdown",
   "id": "ae4111bc",
   "metadata": {},
   "source": [
    "As we can see from df, the index is 0 to 4383. We would like to change the index to the date. To change the index apply the code: df=df.set_index('column_of_interest')"
   ]
  },
  {
   "cell_type": "markdown",
   "id": "8360b1c9",
   "metadata": {},
   "source": [
    "\n",
    "#### *Question*:\n",
    "\n",
    "Change the index column to Date. View the first 5 lines of the df after you set the new index."
   ]
  },
  {
   "cell_type": "code",
   "execution_count": null,
   "id": "c0815bba",
   "metadata": {},
   "outputs": [],
   "source": [
    "#Answer here\n"
   ]
  },
  {
   "cell_type": "markdown",
   "id": "c96c9967",
   "metadata": {},
   "source": [
    "### 3. Data Preprocessing/ Data Cleaning"
   ]
  },
  {
   "cell_type": "markdown",
   "id": "74ff909c",
   "metadata": {},
   "source": [
    "Data pre-processing is the processing that needs to be performed on the raw data to transform it into a more effective and understandable format. The most common problems that occur during this process are outliers, missing values and duplicated data. In this particular data set, all data points refer to verified values hence outliers will not be considered in the analysis and no duplicates are present."
   ]
  },
  {
   "cell_type": "markdown",
   "id": "1260f733",
   "metadata": {},
   "source": [
    "#### How to deal with missing values\n",
    "\n",
    "There are multiple ways to deal with missing values:\n",
    "\n",
    "1. Eliminate rows with missing values - dropna (axis=0)\n",
    "2. Forward fill: Fill values with preceding data – fillna (method = ‘ffill’) \n",
    "3. Backward fill: Fill values with following data – fillna (method = ‘bfill’) \n",
    "4. Linear Interpolation: Fill values using linear interpolation – interpolate (method = ‘linear’) \n",
    "\n",
    "It is important to ensure that filling of data will not add bias and trends to the dataframe. The case where we can use filling methods with a greater level of certainty that there will be no bias is when dealing with time series data, like the manipulated dataframe, \"Open Power System Data\"."
   ]
  },
  {
   "cell_type": "markdown",
   "id": "4edafdc3",
   "metadata": {},
   "source": [
    "#### *Question:*\n",
    "\n",
    "Generate a new dataframe, df_new, which is equal to the original df with all rows with NaN values eliminated. Print the shape of df and df_new using .shape to check if the rows with NaN values were actually eliminated. "
   ]
  },
  {
   "cell_type": "code",
   "execution_count": null,
   "id": "aba9294c",
   "metadata": {},
   "outputs": [],
   "source": [
    "#Answer here:\n"
   ]
  },
  {
   "cell_type": "markdown",
   "id": "b9904726",
   "metadata": {},
   "source": [
    "#### *Question:*\n",
    "\n",
    "Generate dataframes df_ff and df_bf, where NaN values are filled with forward and backward fill respectively. Compare the means of both dataframes (Hint: Look back to Example 1, Section 4). \n"
   ]
  },
  {
   "cell_type": "code",
   "execution_count": null,
   "id": "2d19fd1d",
   "metadata": {},
   "outputs": [],
   "source": [
    "#Answer here\n",
    "\n",
    "\n"
   ]
  }
 ],
 "metadata": {
  "kernelspec": {
   "display_name": "Python 3",
   "language": "python",
   "name": "python3"
  },
  "language_info": {
   "codemirror_mode": {
    "name": "ipython",
    "version": 3
   },
   "file_extension": ".py",
   "mimetype": "text/x-python",
   "name": "python",
   "nbconvert_exporter": "python",
   "pygments_lexer": "ipython3",
   "version": "3.8.8"
  }
 },
 "nbformat": 4,
 "nbformat_minor": 5
}
