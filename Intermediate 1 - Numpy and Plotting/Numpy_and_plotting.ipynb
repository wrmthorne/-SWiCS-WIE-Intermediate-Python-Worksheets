{
 "cells": [
  {
   "attachments": {},
   "cell_type": "markdown",
   "metadata": {},
   "source": [
    "# NumPy & Plotting\n",
    "---\n",
    "Written by Liam Thorne for SWiCS & WiE Python Data-Analysis Sessions (2023)"
   ]
  },
  {
   "attachments": {},
   "cell_type": "markdown",
   "metadata": {},
   "source": [
    "Python is very fast to write code in but compared to other programming languages such as C, it is very very very slow. For performant numerical operations, an external module for Python called [NumPy (Numerical Python)](https://numpy.org/) is used. To make use of external libraries, we need to first download them. To do this, we use [PIP (Package Installer for Python)])(https://pypi.org/project/pip/). PIP makes use of the [Python Package Index](https://pypi.org/) which indexes a massive number of useful libraries for Python, including NumPy. Other package managers such as [Conda](https://docs.conda.io/en/latest/) do exist but pip is the most common and simplest to use. In your command line you can enter the following command:\n",
    "\n",
    "```bash\n",
    "pip install numpy\n",
    "```\n",
    "\n",
    "Fortunately, we can run this directly from this notebook. We will also install all of the other packages we will need for the notebook here.\n",
    "\n",
    "`Note:` You cannot do this in normal python files"
   ]
  },
  {
   "cell_type": "code",
   "execution_count": null,
   "metadata": {},
   "outputs": [],
   "source": [
    "# Normally you would write this line without the ! in your command line but we can do it in a notebook\n",
    "!pip install numpy matplotlib"
   ]
  },
  {
   "attachments": {},
   "cell_type": "markdown",
   "metadata": {},
   "source": [
    "NumPy can now be imported into our program and used. When using functions from external packages, we use the `package.function` notation:\n",
    "\n",
    "```python\n",
    "# Imports all functions from numpy\n",
    "import numpy\n",
    "numpy.array([1, 2, 3])\n",
    "```\n",
    "\n",
    "You can also specify which functions to import from a package. You then don't need to use the `package.function` notation:\n",
    "\n",
    "```python\n",
    "# Imports the array function\n",
    "from numpy import array\n",
    "array([1, 2, 3])\n",
    "```\n",
    "\n",
    "You can also change the name of the package to make typing/reading more convenient while still protecting against multiple packages implementing a function with the same name (e.g. `numpy.array` and `other_package.array`). This is the convention for importing numpy:\n",
    "\n",
    "```python\n",
    "# imports all functions under the np namespace\n",
    "import numpy as np\n",
    "np.array([1, 2, 3])\n",
    "```\n",
    "\n",
    "We can now import our packages"
   ]
  },
  {
   "cell_type": "code",
   "execution_count": null,
   "metadata": {},
   "outputs": [],
   "source": [
    "import numpy as np\n",
    "import matplotlib.pyplot as plt\n",
    "from time import perf_counter # Used for testing performance"
   ]
  },
  {
   "attachments": {},
   "cell_type": "markdown",
   "metadata": {},
   "source": [
    "## Why use NumPy?\n",
    "\n",
    "How much faster is NumPy and why is it worth it? Python lists can be any type which means they need to be checked for what operation can be applied for each element which is slow. Python lists also don't occupy a single block of memory, they can be dispersed and are ordered by a `pointer` which indicates where the next list element is. Numpy also breaks operations into chunks and performs them simultaneously which python doesn't do. The cell below multiplies each element of two arrays together. "
   ]
  },
  {
   "cell_type": "code",
   "execution_count": null,
   "metadata": {},
   "outputs": [],
   "source": [
    "N = 10_000_000 # More human readable way of writing 10 million\n",
    "\n",
    "a = b = range(N) # Assigns both a and b to the same range\n",
    "c = d = np.arange(N)\n",
    "\n",
    "# Python version\n",
    "start = perf_counter()\n",
    "python = [a_i * b_i for a_i, b_i in zip(a, b)]\n",
    "print(f'Python: {perf_counter() - start:.4f}s') # .4f means 4 decimal places\n",
    "\n",
    "# NumPy version\n",
    "start = perf_counter()\n",
    "numpy = c * d\n",
    "print(f'Numpy: {perf_counter() - start:.4f}s')\n",
    "\n",
    "print(f'Equal?: {all(python == numpy)}')"
   ]
  },
  {
   "attachments": {},
   "cell_type": "markdown",
   "metadata": {},
   "source": [
    "## Question 1 - NDArray\n",
    "\n",
    "NumPy implements a version of an NDarray (N-dimensional array) which only allows for 1 data type but fast numerical operations. There are a number of different ways to initialise a NumPy array. Some examples are as follows but there are many more:\n",
    "\n",
    "1. Empty [np.empty](https://numpy.org/doc/stable/reference/generated/numpy.empty.html)\n",
    "2. Random initialisation [np.random.randint](https://numpy.org/doc/stable/reference/random/generated/numpy.random.randint.html).\n",
    "3. A range of values [np.arange](https://numpy.org/doc/stable/reference/generated/numpy.arange.html)\n",
    "\n",
    "i) Initialise a NumPy array with size (5, 10) and with random values in the range 0-4 called `a`.\n",
    "\n",
    "ii) Then initialise another NumPy with the consecutive odd numbers between 1 and 20 called `b`."
   ]
  },
  {
   "cell_type": "code",
   "execution_count": null,
   "metadata": {},
   "outputs": [],
   "source": [
    "# Answer Here"
   ]
  },
  {
   "attachments": {},
   "cell_type": "markdown",
   "metadata": {},
   "source": [
    "## Question 2 - Operators\n",
    "\n",
    "NumPy arrays work on an \"element-wise\" basis. All operators use this as default. If we use the comparison operator on two arrays, element-wise comparison will look like this:\n",
    "\n",
    "$$\n",
    "\\begin{bmatrix}\n",
    "a_1 \\\\ \n",
    "a_2 \\\\ \n",
    "a_3 \\\\ \n",
    "\\end{bmatrix}\n",
    "\n",
    "==\n",
    "\n",
    "\\begin{bmatrix}\n",
    "b_1 \\\\ \n",
    "b_2 \\\\ \n",
    "b_3 \\\\ \n",
    "\\end{bmatrix}\n",
    "\n",
    "=> \n",
    "\n",
    "\\begin{bmatrix}\n",
    "a_1 == b_1 \\\\ \n",
    "a_2 == b_2 \\\\ \n",
    "a_3 == b_3 \\\\ \n",
    "\\end{bmatrix}\n",
    "$$\n",
    "\n",
    "i) Add arrays `a` and `b` together and assign the value to `c`.\n",
    "\n",
    "ii) Multiply arrays `a` and `b` together and assign the value to `d`."
   ]
  },
  {
   "cell_type": "code",
   "execution_count": null,
   "metadata": {},
   "outputs": [],
   "source": [
    "a = np.arange(10, 30, 2)\n",
    "b = np.arange(10)\n",
    "\n",
    "# Answer Here"
   ]
  },
  {
   "attachments": {},
   "cell_type": "markdown",
   "metadata": {},
   "source": [
    "## Question 3 - More Operators\n",
    "\n",
    "There are more advanced operations we want to perform on arrays e.g. for statistics. Some examples are sum ([np.sum](https://numpy.org/doc/stable/reference/generated/numpy.sum.html)), mean ([np.mean](https://numpy.org/doc/stable/reference/generated/numpy.mean.html#numpy.mean)), sqare root ([np.sqrt](https://numpy.org/doc/stable/reference/generated/numpy.sqrt.html)) and standard deviation ([np.std](https://numpy.org/doc/stable/reference/generated/numpy.std.html#numpy.std)) but again, there are a massive number of numerical operators. These work, by default on the whole array.\n",
    "\n",
    "i) Find the standard deviation of `a` using `np.std` and assign it to `b`.\n",
    "\n",
    "ii) Calculate the standard deviation of `a` using the formula manually and compare your answer to `b` (it should be the same).\n",
    "\n",
    "$$\n",
    "\\sigma = \\sqrt{\\frac{\\sum{(X - \\mu)^2}}{N}}\n",
    "$$"
   ]
  },
  {
   "cell_type": "code",
   "execution_count": null,
   "metadata": {},
   "outputs": [],
   "source": [
    "# Set the random number generator seed so we get the same random numbers each time\n",
    "np.random.seed(0)\n",
    "a = np.random.randn(10)\n",
    "\n",
    "# Answer Here"
   ]
  },
  {
   "attachments": {},
   "cell_type": "markdown",
   "metadata": {},
   "source": [
    "## Question 4 - Axes\n",
    "\n",
    "\n",
    "By default, operations in numpy are treated as element wise, e.g.\n",
    "\n",
    "$$ \\sum\n",
    "\\begin{bmatrix}\n",
    "1 & 2 & 3 \\\\ \n",
    "4 & 5 & 6 \\\\ \n",
    "7 & 8 & 9 \\\\ \n",
    "\\end{bmatrix}\n",
    "= 45\n",
    "$$\n",
    "\n",
    "But using axes, you can specify whether an operation should be performed on a specific dimension. Axis 0 is the \"y\" dimension and axis 1 is the \"x\" dimension (same format as matrices). `Note:` NDArray means you can have any number of dimensions and, thus, any number of axes, e.g. sum over axis 0.\n",
    "\n",
    "$$ \\sum_{axis=0}\n",
    "\\begin{bmatrix}\n",
    "1 & 2 & 3 \\\\ \n",
    "4 & 5 & 6 \\\\ \n",
    "7 & 8 & 9 \\\\ \n",
    "\\end{bmatrix}\n",
    "= \n",
    "\n",
    "\\begin{bmatrix}\n",
    "\\sum \\begin{pmatrix}1 \\\\ 4 \\\\ 7\\end{pmatrix} &\n",
    "\\sum \\begin{pmatrix}2 \\\\ 5 \\\\ 8\\end{pmatrix} &\n",
    "\\sum \\begin{pmatrix}3 \\\\ 6 \\\\ 9\\end{pmatrix}\n",
    "\\end{bmatrix}\n",
    "=\n",
    "\n",
    "\\begin{bmatrix}\n",
    "12 \\\\ \n",
    "15 \\\\ \n",
    "18 \\\\ \n",
    "\\end{bmatrix}\n",
    "$$\n",
    "\n",
    "i) Find the standard deviation of `a` for each `row` and assign it to `b`.\n",
    "\n",
    "ii) Calculate the standard deviation of `a` for each `row` using the formula manually and compare your answer to `b` (it should be the same).\n",
    "\n",
    "$$\n",
    "\\sigma = \\sqrt{\\frac{\\sum{(X - \\mu)^2}}{N}}\n",
    "$$\n",
    "\n",
    "`HINT:` You can use [np.apply_along_axis](https://numpy.org/doc/stable/reference/generated/numpy.apply_along_axis.html) to calculate $X - \\mu$ for each row. When calculating N, you also need to consider the axis. You can use [np.shape](https://numpy.org/doc/stable/reference/generated/numpy.shape.html) to get the length of a specific dimension."
   ]
  },
  {
   "cell_type": "code",
   "execution_count": null,
   "metadata": {},
   "outputs": [],
   "source": [
    "np.random.seed(0)\n",
    "a = np.random.randn(10, 5)\n",
    "print(a)\n",
    "\n",
    "# Answer Here"
   ]
  },
  {
   "attachments": {},
   "cell_type": "markdown",
   "metadata": {},
   "source": [
    "## Question 5 - Slice & Stride Indexing\n",
    "\n",
    "NumPy lists make use of extended functionality when it comes to indexing over python lists. The [slice and stride](https://numpy.org/doc/stable/user/basics.indexing.html#basics-indexing) notation (:) is extended to allow for columns or rows to be selected from multi-dimensional structures more easily. The notation follows the standard python format of `[start:stop:step]`. The notation is altered by separating each dimension with a \"`,`\" inside the square brackets. The first element is axis 0, the second is axis 1, etc. The step determines the spacing to apply between values. Multiple indexed values can also be assigned easily in NumPy which is not possible with python lists.\n",
    "\n",
    "$$\n",
    "a = \n",
    "\\begin{bmatrix}\n",
    "1 & 2 & 3 \\\\ \n",
    "4 & 5 & 6 \\\\ \n",
    "7 & 8 & 9 \\\\ \n",
    "\\end{bmatrix}\n",
    "\n",
    "a[0, :] =\n",
    "\\begin{bmatrix}\n",
    "1 & 2 & 3\n",
    "\\end{bmatrix}\n",
    "$$\n",
    "\n",
    "i) Get all elements in the third column using just python functions.\n",
    "\n",
    "ii) Get all elements in the third column using numpy slice notation.\n",
    "\n",
    "iii) Assign every other element in the third column to -$1$. `Note:` this will modify the original array `a`"
   ]
  },
  {
   "cell_type": "code",
   "execution_count": null,
   "metadata": {},
   "outputs": [],
   "source": [
    "a = np.arange(100).reshape(10, 10)\n",
    "print(a)\n",
    "\n",
    "# Answer Here"
   ]
  },
  {
   "attachments": {},
   "cell_type": "markdown",
   "metadata": {},
   "source": [
    "## Question 6 - Integer Array Indexing\n",
    "\n",
    "[Integer array indexing](https://numpy.org/doc/stable/user/basics.indexing.html#integer-array-indexing) allows NumPy arrays to be used to select specific indices from an array. For one dimensional arrays, a single list is provided. For multi-dimensional arrays, supplying one list will extract whole axes. To specify infididual values in an array, you can use multiple separate arrays. `Note:` These arrays must match in length but individual indices may be used for some axes and arrays for others.\n",
    "\n",
    "$$\n",
    "a = \n",
    "\\begin{bmatrix}\n",
    "1 & 2 & 3 \\\\ \n",
    "4 & 5 & 6 \\\\ \n",
    "7 & 8 & 9 \\\\ \n",
    "\\end{bmatrix}\n",
    "\n",
    "a[[0, 1, 1], [1, 1, 2]] =\n",
    "\\begin{bmatrix}\n",
    "0 & 4 & 5\n",
    "\\end{bmatrix}\n",
    "$$\n",
    "\n",
    "i) Extract the first and third segments (think of them as 'planes' of numbers rather than 'columns') from axis 2 from the following 3D array and assign the value to `b`. The [shape](https://numpy.org/doc/stable/reference/generated/numpy.shape.html) should be (3, 3, 2). \n",
    "\n",
    "ii) Assign the values at indices (1, 1, 0), (2, 1, 1), and (2, 2, 2) to -1.\n",
    "\n",
    "`HINT:` If you're struggling to visualise each axis, inspect `a[0]` and see what it is representing."
   ]
  },
  {
   "cell_type": "code",
   "execution_count": null,
   "metadata": {},
   "outputs": [],
   "source": [
    "a = np.arange(27).reshape(3, 3, 3)\n",
    "print(a)\n",
    "\n",
    "# Answer Here"
   ]
  },
  {
   "attachments": {},
   "cell_type": "markdown",
   "metadata": {},
   "source": [
    "## Question 7 - Boolean Array Indexing\n",
    "\n",
    "[Boolean array indexing](https://numpy.org/doc/stable/user/basics.indexing.html#boolean-array-indexing) allows for conditionally selecting certain indices based on their value or some other condition. A boolean array can be calculated by using a comparison between a NumPy array and a value. e.g.\n",
    "\n",
    "```python\n",
    "b = a < 3\n",
    "```\n",
    "\n",
    "This can be applied to `a` to select the indices where `True` is found. Alternatively, the condition can be applied inside the square brackets.\n",
    "\n",
    "i) Calculate the boolean array where the following condition is true for `a` and assign the value to `c`:\n",
    "\n",
    "$$\n",
    "a = \n",
    "\\begin{cases}\n",
    "True & \\text{if } a < 7\\\\\n",
    "False & \\text{otherwise}\n",
    "\\end{cases}\n",
    "$$\n",
    "\n",
    "ii) Select the values in `b` using the boolean array `c` and assign the value to `d`.\n",
    "\n",
    "iii) Use the condition above in square brackets on the array `b` to get the same result.\n",
    "\n",
    "iv) Use the condition in the square bracket to replace True values in `a` with -1."
   ]
  },
  {
   "cell_type": "code",
   "execution_count": null,
   "metadata": {},
   "outputs": [],
   "source": [
    "a = np.arange(10).reshape(2, 5)\n",
    "b = np.arange(10, 20).reshape(2, 5)\n",
    "\n",
    "# Answer Here"
   ]
  },
  {
   "attachments": {},
   "cell_type": "markdown",
   "metadata": {},
   "source": [
    "## Question 8 - Matrices\n",
    "\n",
    "NumPy arrays can be viewed as matrices as they are (row, column) indexed. NumPy implements all common functionality for matrices. Many of these functions are in the [np.linalg](https://numpy.org/doc/stable/reference/routines.linalg.html) subpackage which implements many common tasks such as calculating eigenvalues/eigenvectors, matrix norms and solving expressions of the form $Ax = B$.\n",
    "\n",
    "`HINT:` All the functions you need will be in the linalg docs\n",
    "\n",
    "i) Calculate $B$ in the following expression using the matrix defined below: \n",
    "\n",
    "$$\n",
    "B = A^T \\cdot A\n",
    "$$\n",
    "\n",
    "ii) Calculate the eigenvalues of $A$."
   ]
  },
  {
   "cell_type": "code",
   "execution_count": null,
   "metadata": {},
   "outputs": [],
   "source": [
    "A = np.arange(9).reshape(3, 3)\n",
    "\n",
    "# Answer Here"
   ]
  },
  {
   "attachments": {},
   "cell_type": "markdown",
   "metadata": {},
   "source": [
    "## Matplotlib Introduction\n",
    "\n",
    "Processing arrays is fine but at some point we want to visualise what those arrays mean, especially if we are analysing the data for trends. This is where [Matplotlib](https://matplotlib.org/) comes in. Matplotlib is the core plotting library for python and is built ontop of NumPy. The package includes functions to draw almost any style of graph in up to 3 dimensions.\n",
    "\n",
    "Matplotlib expects each dimension of your data to be in a separate array. We will start with a 1D graph: a [pie chart](https://matplotlib.org/3.1.1/gallery/pie_and_polar_charts/pie_features.html#sphx-glr-gallery-pie-and-polar-charts-pie-features-py). We need an array of data and, optionally, an array of labels. The number of labels must match the number of data points. We can also add features such as a title and legend. The chart size can also be set - the chart can be fully customised to whatever we need (see [docs](https://matplotlib.org/3.1.1/api/_as_gen/matplotlib.pyplot.pie.html))."
   ]
  },
  {
   "cell_type": "code",
   "execution_count": null,
   "metadata": {},
   "outputs": [],
   "source": [
    "labels = ['a', 'b', 'c', 'd', 'e']\n",
    "x = np.arange(5)\n",
    "\n",
    "# Get the figure and axis objects and set figure size\n",
    "fig, ax = plt.subplots(figsize=(5, 5))\n",
    "\n",
    "# Plot the data\n",
    "ax.pie(x, labels=labels)\n",
    "\n",
    "# Add additional information\n",
    "ax.set_title('First Chart')\n",
    "ax.legend()\n",
    "plt.show() # Not strictly necessary in a notebook but good practice"
   ]
  },
  {
   "attachments": {},
   "cell_type": "markdown",
   "metadata": {},
   "source": [
    "## Question 9 - Bar Chart\n",
    "\n",
    "The same idea as above applies for a [barchart](https://matplotlib.org/stable/api/_as_gen/matplotlib.pyplot.bar.html), the difference being there are now two dimensions of data.\n",
    "\n",
    "i) Create a NumPy array with 5 labels of your choice called `x` and another NumPy array with 5 random integers between 10 and 50 called `y`\n",
    "\n",
    "ii) Create a barchart using this data with a title and both axes given a label.\n"
   ]
  },
  {
   "cell_type": "code",
   "execution_count": null,
   "metadata": {},
   "outputs": [],
   "source": [
    "# Answer Here"
   ]
  },
  {
   "attachments": {},
   "cell_type": "markdown",
   "metadata": {},
   "source": [
    "## Question 10 - Plotting Functions\n",
    "\n",
    "Often we want to plot functions in terms of x and y. Matplotlib doesn't understand variables in terms of pure mathematical notation so we need to supply it with values of x. For this we can use [np.linspace](https://numpy.org/doc/stable/reference/generated/numpy.linspace.html). This creates a set of numbers between a set start and end point with even spacing between each interval (linear space).\n",
    "\n",
    "i) Create a linear space between 0 and 10 with 50 values called `x`\n",
    "\n",
    "ii) Plot the function $\\sin(x)$ on a new plot. `HINT:` There are handy NumPy functions for common mathematical functions.\n",
    "\n",
    "ii) Plot the function $\\sin(x) + \\cos(x)$ on the same plot. Add a title and legend with the labels for each function."
   ]
  },
  {
   "cell_type": "code",
   "execution_count": null,
   "metadata": {},
   "outputs": [],
   "source": [
    "# Answer Here"
   ]
  }
 ],
 "metadata": {
  "kernelspec": {
   "display_name": "Python 3.10.6 64-bit",
   "language": "python",
   "name": "python3"
  },
  "language_info": {
   "codemirror_mode": {
    "name": "ipython",
    "version": 3
   },
   "file_extension": ".py",
   "mimetype": "text/x-python",
   "name": "python",
   "nbconvert_exporter": "python",
   "pygments_lexer": "ipython3",
   "version": "3.10.6"
  },
  "orig_nbformat": 4,
  "vscode": {
   "interpreter": {
    "hash": "916dbcbb3f70747c44a77c7bcd40155683ae19c65e1c03b4aa3499c5328201f1"
   }
  }
 },
 "nbformat": 4,
 "nbformat_minor": 2
}
